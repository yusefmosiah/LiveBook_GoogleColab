{
  "cells": [
    {
      "cell_type": "markdown",
      "metadata": {
        "id": "aCzBNh6GHx-i"
      },
      "source": [
        "# Elixir LiveBook on Google Colab w/ BumbleeBee + GPU support\n",
        "### For support, contact [Luke Galea](https://github.com/lukegalea)\n",
        "\n",
        "Runs Livebook w/ Bumblebee pre-installed with a local tunnel so you can use the web UI from your local browser.\n",
        "\n",
        "<hr>\n",
        "\n",
        "### Step 1: Choose your runtime type\n",
        "\n",
        "Decide if you want to run ML on CPU, TPU or GPU. Choose Normal or High RAM and Normal or Premium GPU.\n",
        "\n",
        "Go to Colab Menu -> Runtime -> Choose runtime type and configure accordingly.\n",
        "\n",
        "**\n",
        "\n",
        "### Step 2: Choose your XLA backend\n",
        "Choose XLA backend to match below under \"Configuration\". If using GPU, choose \"cuda\".\n",
        "\n",
        "**\n",
        "\n",
        "### Step 3: Launch Livebook\n",
        "Go to Colab Menu -> Runtime -> Run All\n",
        "\n",
        "It will take 5-10 mins to launch. When ready, note the password and tunnel url. Open the tunnel url in a new browser window, enter password and you are good to go!"
      ]
    },
    {
      "cell_type": "markdown",
      "metadata": {
        "id": "EAo-Osc8oZSb"
      },
      "source": [
        "# Configuration"
      ]
    },
    {
      "cell_type": "code",
      "execution_count": null,
      "metadata": {
        "id": "A4X1B_mpoYMI"
      },
      "outputs": [],
      "source": [
        "XLA_Backend = \"cuda\" #@param [\"cpu\", \"tpu\", \"cuda\"]"
      ]
    },
    {
      "cell_type": "markdown",
      "metadata": {
        "id": "OUJtGg2gQM8-"
      },
      "source": [
        "# Setup"
      ]
    },
    {
      "cell_type": "code",
      "execution_count": null,
      "metadata": {
        "id": "5ssHh4kdLrfl"
      },
      "outputs": [],
      "source": [
        "#@markdown #Update System\n",
        "!sudo apt update\n",
        "!sudo apt upgrade\n",
        "!sudo apt-get install xkcdpass libsctp1 build-essential git wget libssl-dev libreadline-dev libncurses5-dev zlib1g-dev m4 curl wx-common autoconf libxml2-utils xsltproc fop unixodbc unixodbc-dev libncurses5 libwxgtk3.0-gtk3-0v5"
      ]
    },
    {
      "cell_type": "code",
      "execution_count": null,
      "metadata": {
        "id": "l_g5jzhjfYkD"
      },
      "outputs": [],
      "source": [
        "!sudo apt --fix-broken install"
      ]
    },
    {
      "cell_type": "code",
      "execution_count": null,
      "metadata": {
        "id": "0fCtj6sNLrow"
      },
      "outputs": [],
      "source": [
        "#@markdown #Install Erlang\n",
        "!wget https://packages.erlang-solutions.com/erlang/debian/pool/esl-erlang_25.0.4-1~ubuntu~bionic_amd64.deb\n",
        "!sudo dpkg -i esl-erlang_25.0.4-1~ubuntu~bionic_amd64.deb\n"
      ]
    },
    {
      "cell_type": "code",
      "execution_count": null,
      "metadata": {
        "id": "hIbAuNS8M73_"
      },
      "outputs": [],
      "source": [
        "#@markdown #Install Elixir\n",
        "!wget https://github.com/elixir-lang/elixir/releases/download/v1.14.2/elixir-otp-25.zip\n",
        "!mkdir elixir && mv elixir-otp-25.zip elixir/ && cd elixir && unzip elixir-otp-25.zip"
      ]
    },
    {
      "cell_type": "code",
      "execution_count": null,
      "metadata": {
        "id": "chEjQ6JHMaIR"
      },
      "outputs": [],
      "source": [
        "#@markdown #Add Elixir to Path\n",
        "import os\n",
        "os.environ['PATH'] += ':/content/elixir/bin/'"
      ]
    },
    {
      "cell_type": "code",
      "execution_count": null,
      "metadata": {
        "id": "AkNqJc0mDh_K"
      },
      "outputs": [],
      "source": [
        "#@markdown #Update Mix\n",
        "!mix local.hex --force\n",
        "!mix do local.rebar --force"
      ]
    },
    {
      "cell_type": "code",
      "execution_count": null,
      "metadata": {
        "id": "bG70Lk9FWsjz"
      },
      "outputs": [],
      "source": [
        "#@markdown #Install Local Tunnel\n",
        "!npm install -g localtunnel"
      ]
    },
    {
      "cell_type": "code",
      "execution_count": null,
      "metadata": {
        "id": "MYtoOJqBAK4b"
      },
      "outputs": [],
      "source": [
        "#@markdown #Setup Rustup\n",
        "!curl --proto '=https' --tlsv1.2 -sSf https://sh.rustup.rs | sh -s -- --default-toolchain none -y"
      ]
    },
    {
      "cell_type": "code",
      "execution_count": null,
      "metadata": {
        "id": "TFDy_h1hBAwm"
      },
      "outputs": [],
      "source": [
        "#@markdown #Add Rustup to Path\n",
        "import os\n",
        "os.environ['PATH'] += ':/root/.cargo/bin/'"
      ]
    },
    {
      "cell_type": "code",
      "execution_count": null,
      "metadata": {
        "cellView": "form",
        "id": "8TRmGT45BMUu"
      },
      "outputs": [],
      "source": [
        "#@markdown #Setup Rust\n",
        "!rustup toolchain install nightly --allow-downgrade --profile minimal --component clippy"
      ]
    },
    {
      "cell_type": "code",
      "execution_count": null,
      "metadata": {
        "cellView": "form",
        "id": "nBvmC966C0XV"
      },
      "outputs": [],
      "source": [
        "#@markdown #Install Bazelisk\n",
        "!wget https://github.com/bazelbuild/bazelisk/releases/download/v1.15.0/bazelisk-linux-amd64\n",
        "!mv bazelisk-linux-amd64 bazel\n",
        "!chmod u+x bazel\n",
        "!mkdir /root/bin/\n",
        "!mv bazel /root/bin/"
      ]
    },
    {
      "cell_type": "code",
      "execution_count": null,
      "metadata": {
        "id": "fgKH_xh1DJuC"
      },
      "outputs": [],
      "source": [
        "#@markdown #Add Bazel to Path\n",
        "import os\n",
        "os.environ['PATH'] += ':/root/bin/'"
      ]
    },
    {
      "cell_type": "code",
      "execution_count": null,
      "metadata": {
        "id": "HBYKOnmrDQEd"
      },
      "outputs": [],
      "source": [
        "#@markdown #Install Bazel\n",
        "!bazel"
      ]
    },
    {
      "cell_type": "code",
      "execution_count": null,
      "metadata": {
        "id": "yh8k4d-Z9Bw4"
      },
      "outputs": [],
      "source": [
        "#@markdown #Setup XLA\n",
        "if XLA_Backend == 'cpu':\n",
        "  %set_env XLA_BUILD=false\n",
        "  %set_env XLA_TARGET=cpu\n",
        "  %set_env XLA_ARCHIVE_URL=http://ideaforge.org/xla_extension-x86_64-linux-gnu-cpu.tar.gz\n",
        "  %set_env TOKENIZERS_BUILD=true\n",
        "\n",
        "if XLA_Backend == 'cuda':\n",
        "  %set_env XLA_BUILD=false\n",
        "  %set_env XLA_TARGET=cuda  \n",
        "  %set_env XLA_ARCHIVE_URL=http://ideaforge.org/xla_extension-x86_64-linux-gnu-cuda.tar.gz\n",
        "  %set_env TOKENIZERS_BUILD=true\n",
        "\n",
        "# I haven't gotten around to building this yet so no precompiled archive\n",
        "if XLA_Backend == 'tpu':\n",
        "  %set_env XLA_BUILD=true\n",
        "  %set_env XLA_TARGET=tpu    \n",
        "  %set_env TOKENIZERS_BUILD=true"
      ]
    },
    {
      "cell_type": "code",
      "execution_count": null,
      "metadata": {
        "id": "sW4-32QMhPUm"
      },
      "outputs": [],
      "source": [
        "#@markdown #Setup Livebook\n",
        "!git clone https://github.com/livebook-dev/livebook.git\n",
        "\n",
        "## Edit config.exs and mix.exs for bumblebee\n",
        "# To mix.exs\n",
        "# {:bumblebee, \"~> 0.1.2\"},\n",
        "# {:exla, \">= 0.0.0\"},\n",
        "# {:rustler, \">= 0.0.0\"}\n",
        "# {:rustler_precompiled, \"~> 0.5\"}\n",
        "# {:kino_bumblebee, \"~> 0.1.4\"}\n",
        "\n",
        "# To config.ex\n",
        "# config :nx, default_backend: EXLA.Backend\n",
        "# config :rustler_precompiled, :force_build, libex_tokenizers: true\n",
        "\n",
        "!sed -i -e 's/{:bypass, \"~> 2.1\", only: :test},/{:bypass, \"~> 2.1\", only: :test},/g' -e '/{:bypass, \"~> 2.1\", only: :test},/a {:bumblebee, \"~> 0.1.2\"}, {:exla, \">= 0.0.0\"}, {:rustler, \">= 0.0.0\"}, {:rustler_precompiled, \"~> 0.5\"}, {:kino_bumblebee, \"~> 0.1.4\"}' livebook/mix.exs\n",
        "!sed -i -e '/import Config/a config :nx, default_backend: EXLA.Backend' livebook/config/config.exs \n",
        "!sed -i -e 's/port: 8080/port: 9090/g' livebook/config/prod.exs"
      ]
    },
    {
      "cell_type": "code",
      "execution_count": null,
      "metadata": {
        "id": "DH8SuNE8VlkH"
      },
      "outputs": [],
      "source": [
        "# patch livebook/mix.exe to install dependencies for nx, bumblebee, etc.\n",
        "\n",
        "import urllib.request \n",
        "urllib.request.urlretrieve(\"https://raw.githubusercontent.com/yusefmosiah/LiveBook_GoogleColab/main/mix.exs\", \"/content/livebook/mix.exs\")\n",
        "urllib.request.urlretrieve(\"https://raw.githubusercontent.com/yusefmosiah/LiveBook_GoogleColab/main/config.exs\", \"/content/livebook/config/config.exs\")"
      ]
    },
    {
      "cell_type": "code",
      "execution_count": null,
      "metadata": {
        "id": "jYtxCKZ1grjt"
      },
      "outputs": [],
      "source": [
        "# first edit livebook mix.exs lines 106-111 for syntax (missing comma)\n",
        "\n",
        "!cd livebook && mix deps.get --only prod\n",
        "!cd livebook && MIX_ENV=prod mix deps.compile --only prod"
      ]
    },
    {
      "cell_type": "markdown",
      "metadata": {
        "id": "PBBo5SvCQRJm"
      },
      "source": [
        "# Run\n"
      ]
    },
    {
      "cell_type": "code",
      "execution_count": null,
      "metadata": {
        "id": "hNbBOkWCaWnG"
      },
      "outputs": [],
      "source": [
        "# Generate password\n",
        "password = !xkcdpass -n 2 -d-\n",
        "password = password[0]\n",
        "print(f\"Password is {password}\")\n",
        "\n",
        "# Launch Localtunnel\n",
        "import os\n",
        "import time\n",
        "import sys\n",
        "from subprocess import getoutput\n",
        "\n",
        "!nohup lt --port 9090 > srv.txt 2>&1 &\n",
        "time.sleep(3)\n",
        "srv= getoutput('cat /content/srv.txt')\n",
        "print(srv)"
      ]
    },
    {
      "cell_type": "code",
      "execution_count": null,
      "metadata": {
        "id": "kkPNfqwdhAQd"
      },
      "outputs": [],
      "source": [
        "!cd livebook && LIVEBOOK_DEFAULT_RUNTIME=embedded LIVEBOOK_PASSWORD=$password MIX_ENV=prod mix phx.server"
      ]
    }
  ],
  "metadata": {
    "accelerator": "GPU",
    "colab": {
      "private_outputs": true,
      "provenance": []
    },
    "gpuClass": "standard",
    "kernelspec": {
      "display_name": "Python 3",
      "name": "python3"
    },
    "language_info": {
      "name": "python"
    }
  },
  "nbformat": 4,
  "nbformat_minor": 0
}
